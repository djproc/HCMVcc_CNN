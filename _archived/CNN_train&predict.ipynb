{
 "cells": [
  {
   "cell_type": "code",
   "execution_count": null,
   "metadata": {},
   "outputs": [],
   "source": [
    "#note: for this to work you need to create a symbolic link to the fastai/old/fastai folder in the fastai github repo:\n",
    "# in administrator mode, navigate to this folder in the comand prompt then type the following command \n",
    "# $ mklink /d fastai \"C:\\Users\\Dean Procter\\_github\\fastai\\old\\fastai\" <<<---- path of fastai\\old\\fastai \n",
    "\n",
    "#e.g. https://forums.fast.ai/t/howto-installation-on-windows/10439\n",
    "#e.g. https://superuser.com/questions/1020821/how-to-create-a-symbolic-link-on-windows-10"
   ]
  },
  {
   "cell_type": "markdown",
   "metadata": {},
   "source": [
    "## Image classification with Convolutional Neural Networks"
   ]
  },
  {
   "cell_type": "code",
   "execution_count": 1,
   "metadata": {},
   "outputs": [],
   "source": [
    "# Put these at the top of every notebook, to get automatic reloading and inline plotting\n",
    "%reload_ext autoreload\n",
    "%autoreload 2\n",
    "%matplotlib inline"
   ]
  },
  {
   "cell_type": "code",
   "execution_count": 2,
   "metadata": {},
   "outputs": [],
   "source": [
    "# This file contains all the main external libs we'll use\n",
    "from fastai.imports import *"
   ]
  },
  {
   "cell_type": "code",
   "execution_count": 3,
   "metadata": {},
   "outputs": [],
   "source": [
    "from fastai.transforms import *\n",
    "from fastai.conv_learner import *\n",
    "from fastai.model import *\n",
    "from fastai.dataset import *\n",
    "from fastai.sgdr import *\n",
    "from fastai.plots import *"
   ]
  },
  {
   "cell_type": "markdown",
   "metadata": {},
   "source": [
    "`PATH` is the path to your data - if you use the recommended setup approaches from the lesson, you won't need to change this. `sz` is the size that the images will be resized to in order to ensure that the training runs quickly. We'll be talking about this parameter a lot during the course. Leave it at `224` for now."
   ]
  },
  {
   "cell_type": "code",
   "execution_count": 4,
   "metadata": {},
   "outputs": [],
   "source": [
    "sz=224"
   ]
  },
  {
   "cell_type": "markdown",
   "metadata": {},
   "source": [
    "It's important that you have a working NVidia GPU set up. The programming framework used to behind the scenes to work with NVidia GPUs is called CUDA. Therefore, you need to ensure the following line returns `True` before you proceed. If you have problems with this, please check the FAQ and ask for help on [the forums](http://forums.fast.ai)."
   ]
  },
  {
   "cell_type": "code",
   "execution_count": 5,
   "metadata": {},
   "outputs": [
    {
     "data": {
      "text/plain": [
       "True"
      ]
     },
     "execution_count": 5,
     "metadata": {},
     "output_type": "execute_result"
    }
   ],
   "source": [
    "torch.cuda.is_available()"
   ]
  },
  {
   "cell_type": "markdown",
   "metadata": {},
   "source": [
    "In addition, NVidia provides special accelerated functions for deep learning in a package called CuDNN. Although not strictly necessary, it will improve training performance significantly, and is included by default in all supported fastai configurations. Therefore, if the following does not return `True`, you may want to look into why."
   ]
  },
  {
   "cell_type": "code",
   "execution_count": 6,
   "metadata": {},
   "outputs": [
    {
     "data": {
      "text/plain": [
       "True"
      ]
     },
     "execution_count": 6,
     "metadata": {},
     "output_type": "execute_result"
    }
   ],
   "source": [
    "torch.backends.cudnn.enabled"
   ]
  },
  {
   "cell_type": "code",
   "execution_count": 7,
   "metadata": {},
   "outputs": [],
   "source": [
    "import os\n",
    "#this notebook file should be in your main experiment folder, the training folder (with valid, train and test subfolders) should be in this main experiment folder. \n",
    "#List the names you've given the following folders below\n",
    "training_folder = \"training2\"\n",
    "#os.mkdir(training_folder)\n",
    "MAIN_PATH = os.getcwd()\n",
    "PATH = os.path.join(MAIN_PATH,training_folder)\n",
    "#os.mkdir(os.path.join(PATH,\"_manuallysorted\"))\n",
    "\n",
    "# now put your CNNexport folder into the training folder"
   ]
  },
  {
   "cell_type": "code",
   "execution_count": 8,
   "metadata": {},
   "outputs": [
    {
     "data": {
      "text/plain": [
       "['117_20190707_H3K9me3quant_repL_v2CNNexport',\n",
       " 'models',\n",
       " 'tmp',\n",
       " 'train',\n",
       " 'valid',\n",
       " '_manuallysorted']"
      ]
     },
     "execution_count": 8,
     "metadata": {},
     "output_type": "execute_result"
    }
   ],
   "source": [
    "os.listdir(PATH)"
   ]
  },
  {
   "cell_type": "code",
   "execution_count": 9,
   "metadata": {},
   "outputs": [
    {
     "name": "stdout",
     "output_type": "stream",
     "text": [
      "G:\\117\\117_20190707_H3K9me3quant_repKrepL\\_pipeline\\v2\\training2\\117_20190707_H3K9me3quant_repL_v2CNNexport\n"
     ]
    }
   ],
   "source": [
    "test_subfolder = \"117_20190707_H3K9me3quant_repL_v2CNNexport\"\n",
    "model_name = test_subfolder[0:-10] #because we are creating our own model \n",
    "TEST_PATH = os.path.join(PATH, test_subfolder)\n",
    "print(TEST_PATH)"
   ]
  },
  {
   "cell_type": "code",
   "execution_count": 10,
   "metadata": {},
   "outputs": [],
   "source": [
    "files = os.listdir(TEST_PATH)"
   ]
  },
  {
   "cell_type": "code",
   "execution_count": 11,
   "metadata": {},
   "outputs": [
    {
     "data": {
      "image/png": "[encoded data removed]",
      "text/plain": [
       "<Figure size 432x288 with 1 Axes>"
      ]
     },
     "metadata": {
      "needs_background": "light"
     },
     "output_type": "display_data"
    }
   ],
   "source": [
    "img = plt.imread(f'{TEST_PATH}\\\\{files[0]}')\n",
    "img\n",
    "plt.imshow(img);"
   ]
  },
  {
   "cell_type": "markdown",
   "metadata": {},
   "source": [
    "Here is how the raw data looks like"
   ]
  },
  {
   "cell_type": "markdown",
   "metadata": {},
   "source": [
    "# train the model"
   ]
  },
  {
   "cell_type": "code",
   "execution_count": 12,
   "metadata": {},
   "outputs": [],
   "source": [
    "tfms = tfms_from_model(resnet34, sz, aug_tfms=transforms_top_down, max_zoom=1.1) #CHANGED AUGMENTATIONS FROM transforms_side_on"
   ]
  },
  {
   "cell_type": "code",
   "execution_count": 13,
   "metadata": {},
   "outputs": [],
   "source": [
    "#it is probably easier to just mklink to this \n",
    "# e.g. mklink /d 117_20190603_SUN1vLaminAC_repA_v1A_CNNexport \"G:\\117\\117_20190603_laminAC_timecourse\\_slidescan\\_pipeline\\v1A\\117_20190603_SUNvLaminAC_repA_v1A_CNNexport\"\n",
    "### ACTUALLYIT SEEMS LIKE IT WORKS BEST PHYSICALLY IN THE SAME FOLDER\n",
    "data = ImageClassifierData.from_paths(PATH, tfms=tfms, test_name=test_subfolder)"
   ]
  },
  {
   "cell_type": "code",
   "execution_count": 14,
   "metadata": {},
   "outputs": [],
   "source": [
    "arch=resnet34"
   ]
  },
  {
   "cell_type": "code",
   "execution_count": 15,
   "metadata": {},
   "outputs": [],
   "source": [
    "def get_augs():\n",
    "    data = ImageClassifierData.from_paths(PATH, bs=2, tfms=tfms, num_workers=1)\n",
    "    x,_ = next(iter(data.aug_dl))\n",
    "    return data.trn_ds.denorm(x)[1]"
   ]
  },
  {
   "cell_type": "code",
   "execution_count": 16,
   "metadata": {},
   "outputs": [
    {
     "name": "stdout",
     "output_type": "stream",
     "text": [
      "100%|███████████████████████████████████████████████████████████████████████████████████████████████████████████████████████████████████████████████████████████████████████████████████████████████████████| 34/34 [00:28<00:00,  3.06it/s]\n",
      "100%|███████████████████████████████████████████████████████████████████████████████████████████████████████████████████████████████████████████████████████████████████████████████████████████████████████| 16/16 [00:13<00:00,  1.22it/s]\n",
      "100%|█████████████████████████████████████████████████████████████████████████████████████████████████████████████████████████████████████████████████████████████████████████████████████████████████████| 282/282 [03:58<00:00,  3.42it/s]\n"
     ]
    }
   ],
   "source": [
    "#sometimes this fails, just run it again... this usually fixes it! Consider it like priming the pump!\n",
    "learn = ConvLearner.pretrained(arch, data, precompute=True)"
   ]
  },
  {
   "cell_type": "code",
   "execution_count": 17,
   "metadata": {},
   "outputs": [
    {
     "data": {
      "application/vnd.jupyter.widget-view+json": {
       "model_id": "d107b4dbbea148b3b1366f2743ca0c37",
       "version_major": 2,
       "version_minor": 0
      },
      "text/plain": [
       "HBox(children=(IntProgress(value=0, description='Epoch', max=1, style=ProgressStyle(description_width='initial…"
      ]
     },
     "metadata": {},
     "output_type": "display_data"
    },
    {
     "name": "stdout",
     "output_type": "stream",
     "text": [
      "\n",
      "epoch      trn_loss   val_loss   accuracy   \n",
      "    0      0.505734   0.147281   0.952133  \n"
     ]
    },
    {
     "data": {
      "text/plain": [
       "[0.14728060522883293, 0.9521331945889698]"
      ]
     },
     "execution_count": 17,
     "metadata": {},
     "output_type": "execute_result"
    }
   ],
   "source": [
    "learn.fit(1e-2, 1)"
   ]
  },
  {
   "cell_type": "code",
   "execution_count": 18,
   "metadata": {},
   "outputs": [],
   "source": [
    "learn.precompute=False"
   ]
  },
  {
   "cell_type": "code",
   "execution_count": 19,
   "metadata": {},
   "outputs": [
    {
     "data": {
      "application/vnd.jupyter.widget-view+json": {
       "model_id": "7df8ca110cf242859d274b62eb6ebc5e",
       "version_major": 2,
       "version_minor": 0
      },
      "text/plain": [
       "HBox(children=(IntProgress(value=0, description='Epoch', max=15, style=ProgressStyle(description_width='initia…"
      ]
     },
     "metadata": {},
     "output_type": "display_data"
    },
    {
     "name": "stdout",
     "output_type": "stream",
     "text": [
      "\n",
      "epoch      trn_loss   val_loss   accuracy   \n",
      "    0      0.189602   0.11311    0.965661  \n",
      "    1      0.16823    0.100815   0.966701  \n",
      "    2      0.156626   0.098244   0.967742  \n",
      "    3      0.141966   0.089916   0.972945  \n",
      "    4      0.121771   0.081593   0.976067  \n",
      "    5      0.116371   0.082013   0.977107  \n",
      "    6      0.110368   0.074588   0.977107  \n",
      "    7      0.104864   0.071264   0.975026  \n",
      "    8      0.100985   0.07005    0.975026  \n",
      "    9      0.102229   0.064312   0.980229  \n",
      "    10     0.09623    0.064262   0.980229  \n",
      "    11     0.090539   0.062313   0.98231   \n",
      "    12     0.088431   0.060052   0.980229  \n",
      "    13     0.079938   0.059863   0.98127   \n",
      "    14     0.07812    0.057837   0.98127   \n"
     ]
    },
    {
     "data": {
      "text/plain": [
       "[0.05783732612224821, 0.9812695109261186]"
      ]
     },
     "execution_count": 19,
     "metadata": {},
     "output_type": "execute_result"
    }
   ],
   "source": [
    "learn.fit(1e-2, 5, cycle_len=3)"
   ]
  },
  {
   "cell_type": "markdown",
   "metadata": {},
   "source": [
    "### Fine-tuning and differential learning rate annealing"
   ]
  },
  {
   "cell_type": "code",
   "execution_count": 20,
   "metadata": {},
   "outputs": [],
   "source": [
    "learn.unfreeze()"
   ]
  },
  {
   "cell_type": "code",
   "execution_count": 21,
   "metadata": {},
   "outputs": [],
   "source": [
    "lr=np.array([1e-4,1e-3,1e-2])"
   ]
  },
  {
   "cell_type": "code",
   "execution_count": 22,
   "metadata": {},
   "outputs": [
    {
     "data": {
      "application/vnd.jupyter.widget-view+json": {
       "model_id": "394c253916a246a8be948057e4024906",
       "version_major": 2,
       "version_minor": 0
      },
      "text/plain": [
       "HBox(children=(IntProgress(value=0, description='Epoch', max=13, style=ProgressStyle(description_width='initia…"
      ]
     },
     "metadata": {},
     "output_type": "display_data"
    },
    {
     "name": "stdout",
     "output_type": "stream",
     "text": [
      "\n",
      "epoch      trn_loss   val_loss   accuracy   \n",
      "    0      0.282659   0.091773   0.962539  \n",
      "    1      0.135981   0.024031   0.996878  \n",
      "    2      0.081176   0.017068   0.994797  \n",
      "    3      0.058305   0.016614   0.994797  \n",
      "    4      0.043004   0.012636   0.996878  \n",
      "    5      0.03847    0.012739   0.993757  \n",
      "    6      0.029344   0.01938    0.995838  \n",
      "    7      0.021958   0.008725   0.997919  \n",
      "    8      0.019038   0.009874   0.996878  \n",
      "    9      0.016356   0.007475   0.995838  \n",
      "    10     0.017359   0.007865   0.996878  \n",
      "    11     0.017132   0.006663   0.997919  \n",
      "    12     0.024293   0.006731   0.998959  \n"
     ]
    },
    {
     "data": {
      "text/plain": [
       "[0.006730521010558637, 0.9989594172736732]"
      ]
     },
     "execution_count": 22,
     "metadata": {},
     "output_type": "execute_result"
    }
   ],
   "source": [
    "learn.fit(lr, 3, cycle_len=1, cycle_mult=3)"
   ]
  },
  {
   "cell_type": "code",
   "execution_count": 23,
   "metadata": {},
   "outputs": [
    {
     "name": "stdout",
     "output_type": "stream",
     "text": []
    }
   ],
   "source": [
    "log_preds,y = learn.TTA()\n",
    "probs = np.mean(np.exp(log_preds),0)"
   ]
  },
  {
   "cell_type": "code",
   "execution_count": 24,
   "metadata": {},
   "outputs": [
    {
     "data": {
      "text/plain": [
       "1.0"
      ]
     },
     "execution_count": 24,
     "metadata": {},
     "output_type": "execute_result"
    }
   ],
   "source": [
    "accuracy_np(probs, y)"
   ]
  },
  {
   "cell_type": "code",
   "execution_count": 25,
   "metadata": {},
   "outputs": [],
   "source": [
    "learn.save(model_name)"
   ]
  },
  {
   "cell_type": "code",
   "execution_count": 26,
   "metadata": {},
   "outputs": [],
   "source": [
    "preds = np.argmax(probs, axis=1)\n",
    "probs = probs[:,1]"
   ]
  },
  {
   "cell_type": "markdown",
   "metadata": {},
   "source": [
    "A common way to analyze the result of a classification model is to use a [confusion matrix](http://www.dataschool.io/simple-guide-to-confusion-matrix-terminology/). Scikit-learn has a convenient function we can use for this purpose:"
   ]
  },
  {
   "cell_type": "code",
   "execution_count": 27,
   "metadata": {},
   "outputs": [],
   "source": [
    "from sklearn.metrics import confusion_matrix\n",
    "cm = confusion_matrix(y, preds)"
   ]
  },
  {
   "cell_type": "markdown",
   "metadata": {},
   "source": [
    "We can just print out the confusion matrix, or we can show a graphical view (which is mainly useful for dependents with a larger number of categories)."
   ]
  },
  {
   "cell_type": "code",
   "execution_count": 28,
   "metadata": {},
   "outputs": [
    {
     "name": "stdout",
     "output_type": "stream",
     "text": [
      "[[275   0   0   0   0]\n",
      " [  0 236   0   0   0]\n",
      " [  0   0   2   0   0]\n",
      " [  0   0   0 202   0]\n",
      " [  0   0   0   0 246]]\n"
     ]
    },
    {
     "data": {
      "image/png": "[encoded data removed]",
      "text/plain": [
       "<Figure size 432x288 with 2 Axes>"
      ]
     },
     "metadata": {
      "needs_background": "light"
     },
     "output_type": "display_data"
    }
   ],
   "source": [
    "plot_confusion_matrix(cm, data.classes)"
   ]
  },
  {
   "cell_type": "code",
   "execution_count": 29,
   "metadata": {},
   "outputs": [],
   "source": [
    "#most_uncertain = np.argsort(np.abs(probs -0.5))[:4]\n",
    "#plot_val_with_title(most_uncertain, \"Most uncertain predictions\")"
   ]
  },
  {
   "cell_type": "markdown",
   "metadata": {},
   "source": [
    "# PREDICTIONS"
   ]
  },
  {
   "cell_type": "code",
   "execution_count": 30,
   "metadata": {},
   "outputs": [],
   "source": [
    "learn.load(model_name)"
   ]
  },
  {
   "cell_type": "code",
   "execution_count": 31,
   "metadata": {},
   "outputs": [],
   "source": [
    "#skipped, perhaps can delete\n",
    "#learn.precompute=False"
   ]
  },
  {
   "cell_type": "code",
   "execution_count": 32,
   "metadata": {},
   "outputs": [],
   "source": [
    "preds = learn.predict(is_test = True)"
   ]
  },
  {
   "cell_type": "code",
   "execution_count": 33,
   "metadata": {},
   "outputs": [],
   "source": [
    "test_files = data.test_dl.dataset.fnames"
   ]
  },
  {
   "cell_type": "code",
   "execution_count": 34,
   "metadata": {},
   "outputs": [
    {
     "data": {
      "text/plain": [
       "array([[ -0.00091, -12.29935,  -7.04653, -10.32343, -15.38023],\n",
       "       [ -0.00139, -11.78199,  -6.64068,  -9.6523 , -11.34327],\n",
       "       [ -0.01688,  -6.25058,  -5.36776,  -4.62979,  -7.84875],\n",
       "       ...,\n",
       "       [ -0.00501, -10.83789,  -7.44584, -11.25593,  -5.42964],\n",
       "       [ -0.02607, -10.18414,  -6.64998,  -7.92156,  -3.7279 ],\n",
       "       [ -0.00005, -15.57852,  -9.89908, -14.17806, -13.78644]], dtype=float32)"
      ]
     },
     "execution_count": 34,
     "metadata": {},
     "output_type": "execute_result"
    }
   ],
   "source": [
    "preds"
   ]
  },
  {
   "cell_type": "code",
   "execution_count": 35,
   "metadata": {},
   "outputs": [],
   "source": [
    "#test_files"
   ]
  },
  {
   "cell_type": "code",
   "execution_count": 36,
   "metadata": {},
   "outputs": [],
   "source": [
    "learn.precompute=False"
   ]
  },
  {
   "cell_type": "code",
   "execution_count": 37,
   "metadata": {},
   "outputs": [
    {
     "data": {
      "text/plain": [
       "['MOCK', 'TB_perfect', 'blur', 'crap', 'overlap']"
      ]
     },
     "execution_count": 37,
     "metadata": {},
     "output_type": "execute_result"
    }
   ],
   "source": [
    "#show me the classes in our model\n",
    "data.classes"
   ]
  },
  {
   "cell_type": "code",
   "execution_count": 38,
   "metadata": {},
   "outputs": [],
   "source": [
    "#show me the filenames in our test dataset\n",
    "#data.test_ds.fnames"
   ]
  },
  {
   "cell_type": "code",
   "execution_count": 39,
   "metadata": {},
   "outputs": [
    {
     "name": "stdout",
     "output_type": "stream",
     "text": []
    }
   ],
   "source": [
    "# get prediction on the test dataset rather than validation dataset\n",
    "log_preds, y = learn.TTA(is_test=True) "
   ]
  },
  {
   "cell_type": "code",
   "execution_count": 40,
   "metadata": {},
   "outputs": [],
   "source": [
    "probs = np.mean(np.exp(log_preds),0)"
   ]
  },
  {
   "cell_type": "code",
   "execution_count": 41,
   "metadata": {},
   "outputs": [
    {
     "data": {
      "text/plain": [
       "(18006, 5)"
      ]
     },
     "execution_count": 41,
     "metadata": {},
     "output_type": "execute_result"
    }
   ],
   "source": [
    "probs.shape"
   ]
  },
  {
   "cell_type": "code",
   "execution_count": 42,
   "metadata": {},
   "outputs": [],
   "source": [
    "df = pd.DataFrame(probs)\n",
    "df.columns = data.classes"
   ]
  },
  {
   "cell_type": "code",
   "execution_count": 43,
   "metadata": {},
   "outputs": [],
   "source": [
    "df.insert(0, 'id', [o for o in data.test_ds.fnames])\n",
    "#df.insert(0, 'id', [o[5:-4] for o in data.test_ds.fnames])"
   ]
  },
  {
   "cell_type": "code",
   "execution_count": 44,
   "metadata": {},
   "outputs": [
    {
     "data": {
      "text/html": [
       "<div>\n",
       "<style scoped>\n",
       "    .dataframe tbody tr th:only-of-type {\n",
       "        vertical-align: middle;\n",
       "    }\n",
       "\n",
       "    .dataframe tbody tr th {\n",
       "        vertical-align: top;\n",
       "    }\n",
       "\n",
       "    .dataframe thead th {\n",
       "        text-align: right;\n",
       "    }\n",
       "</style>\n",
       "<table border=\"1\" class=\"dataframe\">\n",
       "  <thead>\n",
       "    <tr style=\"text-align: right;\">\n",
       "      <th></th>\n",
       "      <th>id</th>\n",
       "      <th>MOCK</th>\n",
       "      <th>TB_perfect</th>\n",
       "      <th>blur</th>\n",
       "      <th>crap</th>\n",
       "      <th>overlap</th>\n",
       "    </tr>\n",
       "  </thead>\n",
       "  <tbody>\n",
       "    <tr>\n",
       "      <th>0</th>\n",
       "      <td>117_20190707_H3K9me3quant_repL_v2CNNexport\\117...</td>\n",
       "      <td>0.997593</td>\n",
       "      <td>0.000014</td>\n",
       "      <td>0.002192</td>\n",
       "      <td>0.000200</td>\n",
       "      <td>7.047981e-07</td>\n",
       "    </tr>\n",
       "    <tr>\n",
       "      <th>1</th>\n",
       "      <td>117_20190707_H3K9me3quant_repL_v2CNNexport\\117...</td>\n",
       "      <td>0.999374</td>\n",
       "      <td>0.000011</td>\n",
       "      <td>0.000544</td>\n",
       "      <td>0.000068</td>\n",
       "      <td>3.041609e-06</td>\n",
       "    </tr>\n",
       "    <tr>\n",
       "      <th>2</th>\n",
       "      <td>117_20190707_H3K9me3quant_repL_v2CNNexport\\117...</td>\n",
       "      <td>0.949804</td>\n",
       "      <td>0.001993</td>\n",
       "      <td>0.006105</td>\n",
       "      <td>0.041727</td>\n",
       "      <td>3.712408e-04</td>\n",
       "    </tr>\n",
       "    <tr>\n",
       "      <th>3</th>\n",
       "      <td>117_20190707_H3K9me3quant_repL_v2CNNexport\\117...</td>\n",
       "      <td>0.418561</td>\n",
       "      <td>0.001115</td>\n",
       "      <td>0.005932</td>\n",
       "      <td>0.570734</td>\n",
       "      <td>3.657728e-03</td>\n",
       "    </tr>\n",
       "    <tr>\n",
       "      <th>4</th>\n",
       "      <td>117_20190707_H3K9me3quant_repL_v2CNNexport\\117...</td>\n",
       "      <td>0.000387</td>\n",
       "      <td>0.000120</td>\n",
       "      <td>0.002654</td>\n",
       "      <td>0.996811</td>\n",
       "      <td>2.841277e-05</td>\n",
       "    </tr>\n",
       "  </tbody>\n",
       "</table>\n",
       "</div>"
      ],
      "text/plain": [
       "                                                  id      MOCK  TB_perfect  \\\n",
       "0  117_20190707_H3K9me3quant_repL_v2CNNexport\\117...  0.997593    0.000014   \n",
       "1  117_20190707_H3K9me3quant_repL_v2CNNexport\\117...  0.999374    0.000011   \n",
       "2  117_20190707_H3K9me3quant_repL_v2CNNexport\\117...  0.949804    0.001993   \n",
       "3  117_20190707_H3K9me3quant_repL_v2CNNexport\\117...  0.418561    0.001115   \n",
       "4  117_20190707_H3K9me3quant_repL_v2CNNexport\\117...  0.000387    0.000120   \n",
       "\n",
       "       blur      crap       overlap  \n",
       "0  0.002192  0.000200  7.047981e-07  \n",
       "1  0.000544  0.000068  3.041609e-06  \n",
       "2  0.006105  0.041727  3.712408e-04  \n",
       "3  0.005932  0.570734  3.657728e-03  \n",
       "4  0.002654  0.996811  2.841277e-05  "
      ]
     },
     "execution_count": 44,
     "metadata": {},
     "output_type": "execute_result"
    }
   ],
   "source": [
    "df.head()"
   ]
  },
  {
   "cell_type": "code",
   "execution_count": 45,
   "metadata": {},
   "outputs": [],
   "source": [
    "#strip prefix from filename to match UNIQUE ID\n",
    "CNN_export_folder = test_subfolder\n",
    "df[\"id\"].replace(regex=True,inplace=True,to_replace=CNN_export_folder + '\\\\\\\\',value='')\n",
    "df[\"id\"].replace(regex=True,inplace=True,to_replace='.jpg',value='') #or coud cut with [0:-4] in df.insert above"
   ]
  },
  {
   "cell_type": "code",
   "execution_count": 46,
   "metadata": {},
   "outputs": [
    {
     "data": {
      "text/html": [
       "<div>\n",
       "<style scoped>\n",
       "    .dataframe tbody tr th:only-of-type {\n",
       "        vertical-align: middle;\n",
       "    }\n",
       "\n",
       "    .dataframe tbody tr th {\n",
       "        vertical-align: top;\n",
       "    }\n",
       "\n",
       "    .dataframe thead th {\n",
       "        text-align: right;\n",
       "    }\n",
       "</style>\n",
       "<table border=\"1\" class=\"dataframe\">\n",
       "  <thead>\n",
       "    <tr style=\"text-align: right;\">\n",
       "      <th></th>\n",
       "      <th>id</th>\n",
       "      <th>MOCK</th>\n",
       "      <th>TB_perfect</th>\n",
       "      <th>blur</th>\n",
       "      <th>crap</th>\n",
       "      <th>overlap</th>\n",
       "    </tr>\n",
       "  </thead>\n",
       "  <tbody>\n",
       "    <tr>\n",
       "      <th>0</th>\n",
       "      <td>117_20190707_repL_96hpi_1000_1_RGB</td>\n",
       "      <td>0.997593</td>\n",
       "      <td>0.000014</td>\n",
       "      <td>0.002192</td>\n",
       "      <td>0.000200</td>\n",
       "      <td>7.047981e-07</td>\n",
       "    </tr>\n",
       "    <tr>\n",
       "      <th>1</th>\n",
       "      <td>117_20190707_repL_96hpi_1000_2_RGB</td>\n",
       "      <td>0.999374</td>\n",
       "      <td>0.000011</td>\n",
       "      <td>0.000544</td>\n",
       "      <td>0.000068</td>\n",
       "      <td>3.041609e-06</td>\n",
       "    </tr>\n",
       "    <tr>\n",
       "      <th>2</th>\n",
       "      <td>117_20190707_repL_96hpi_1000_3_RGB</td>\n",
       "      <td>0.949804</td>\n",
       "      <td>0.001993</td>\n",
       "      <td>0.006105</td>\n",
       "      <td>0.041727</td>\n",
       "      <td>3.712408e-04</td>\n",
       "    </tr>\n",
       "    <tr>\n",
       "      <th>3</th>\n",
       "      <td>117_20190707_repL_96hpi_1000_4_RGB</td>\n",
       "      <td>0.418561</td>\n",
       "      <td>0.001115</td>\n",
       "      <td>0.005932</td>\n",
       "      <td>0.570734</td>\n",
       "      <td>3.657728e-03</td>\n",
       "    </tr>\n",
       "    <tr>\n",
       "      <th>4</th>\n",
       "      <td>117_20190707_repL_96hpi_1000_5_RGB</td>\n",
       "      <td>0.000387</td>\n",
       "      <td>0.000120</td>\n",
       "      <td>0.002654</td>\n",
       "      <td>0.996811</td>\n",
       "      <td>2.841277e-05</td>\n",
       "    </tr>\n",
       "  </tbody>\n",
       "</table>\n",
       "</div>"
      ],
      "text/plain": [
       "                                   id      MOCK  TB_perfect      blur  \\\n",
       "0  117_20190707_repL_96hpi_1000_1_RGB  0.997593    0.000014  0.002192   \n",
       "1  117_20190707_repL_96hpi_1000_2_RGB  0.999374    0.000011  0.000544   \n",
       "2  117_20190707_repL_96hpi_1000_3_RGB  0.949804    0.001993  0.006105   \n",
       "3  117_20190707_repL_96hpi_1000_4_RGB  0.418561    0.001115  0.005932   \n",
       "4  117_20190707_repL_96hpi_1000_5_RGB  0.000387    0.000120  0.002654   \n",
       "\n",
       "       crap       overlap  \n",
       "0  0.000200  7.047981e-07  \n",
       "1  0.000068  3.041609e-06  \n",
       "2  0.041727  3.712408e-04  \n",
       "3  0.570734  3.657728e-03  \n",
       "4  0.996811  2.841277e-05  "
      ]
     },
     "execution_count": 46,
     "metadata": {},
     "output_type": "execute_result"
    }
   ],
   "source": [
    "df.head()"
   ]
  },
  {
   "cell_type": "code",
   "execution_count": 47,
   "metadata": {},
   "outputs": [],
   "source": [
    "probs_csv_name = CNN_export_folder + \"_usingMODEL_\" + model_name + \".csv\"\n",
    "df.to_csv(probs_csv_name, index=False)"
   ]
  },
  {
   "cell_type": "code",
   "execution_count": 48,
   "metadata": {},
   "outputs": [],
   "source": [
    "#START HERE IF YOU DON'T WANT TO DO THE PREDICTIONS AGAIN\n",
    "import pandas as pd\n",
    "import sys\n",
    "import os\n",
    "from os import listdir\n",
    "import shutil\n",
    "import datetime"
   ]
  },
  {
   "cell_type": "code",
   "execution_count": 49,
   "metadata": {},
   "outputs": [],
   "source": [
    "#uncomment this to load csv\n",
    "#df = pd.read_csv(\"117_20190112_v1Ca_CNN_predictions.csv\")"
   ]
  },
  {
   "cell_type": "code",
   "execution_count": 50,
   "metadata": {},
   "outputs": [
    {
     "data": {
      "text/html": [
       "<div>\n",
       "<style scoped>\n",
       "    .dataframe tbody tr th:only-of-type {\n",
       "        vertical-align: middle;\n",
       "    }\n",
       "\n",
       "    .dataframe tbody tr th {\n",
       "        vertical-align: top;\n",
       "    }\n",
       "\n",
       "    .dataframe thead th {\n",
       "        text-align: right;\n",
       "    }\n",
       "</style>\n",
       "<table border=\"1\" class=\"dataframe\">\n",
       "  <thead>\n",
       "    <tr style=\"text-align: right;\">\n",
       "      <th></th>\n",
       "      <th>id</th>\n",
       "      <th>MOCK</th>\n",
       "      <th>TB_perfect</th>\n",
       "      <th>blur</th>\n",
       "      <th>crap</th>\n",
       "      <th>overlap</th>\n",
       "    </tr>\n",
       "  </thead>\n",
       "  <tbody>\n",
       "    <tr>\n",
       "      <th>0</th>\n",
       "      <td>117_20190707_repL_96hpi_1000_1_RGB</td>\n",
       "      <td>0.997593</td>\n",
       "      <td>0.000014</td>\n",
       "      <td>0.002192</td>\n",
       "      <td>0.000200</td>\n",
       "      <td>7.047981e-07</td>\n",
       "    </tr>\n",
       "    <tr>\n",
       "      <th>1</th>\n",
       "      <td>117_20190707_repL_96hpi_1000_2_RGB</td>\n",
       "      <td>0.999374</td>\n",
       "      <td>0.000011</td>\n",
       "      <td>0.000544</td>\n",
       "      <td>0.000068</td>\n",
       "      <td>3.041609e-06</td>\n",
       "    </tr>\n",
       "    <tr>\n",
       "      <th>2</th>\n",
       "      <td>117_20190707_repL_96hpi_1000_3_RGB</td>\n",
       "      <td>0.949804</td>\n",
       "      <td>0.001993</td>\n",
       "      <td>0.006105</td>\n",
       "      <td>0.041727</td>\n",
       "      <td>3.712408e-04</td>\n",
       "    </tr>\n",
       "    <tr>\n",
       "      <th>3</th>\n",
       "      <td>117_20190707_repL_96hpi_1000_4_RGB</td>\n",
       "      <td>0.418561</td>\n",
       "      <td>0.001115</td>\n",
       "      <td>0.005932</td>\n",
       "      <td>0.570734</td>\n",
       "      <td>3.657728e-03</td>\n",
       "    </tr>\n",
       "    <tr>\n",
       "      <th>4</th>\n",
       "      <td>117_20190707_repL_96hpi_1000_5_RGB</td>\n",
       "      <td>0.000387</td>\n",
       "      <td>0.000120</td>\n",
       "      <td>0.002654</td>\n",
       "      <td>0.996811</td>\n",
       "      <td>2.841277e-05</td>\n",
       "    </tr>\n",
       "  </tbody>\n",
       "</table>\n",
       "</div>"
      ],
      "text/plain": [
       "                                   id      MOCK  TB_perfect      blur  \\\n",
       "0  117_20190707_repL_96hpi_1000_1_RGB  0.997593    0.000014  0.002192   \n",
       "1  117_20190707_repL_96hpi_1000_2_RGB  0.999374    0.000011  0.000544   \n",
       "2  117_20190707_repL_96hpi_1000_3_RGB  0.949804    0.001993  0.006105   \n",
       "3  117_20190707_repL_96hpi_1000_4_RGB  0.418561    0.001115  0.005932   \n",
       "4  117_20190707_repL_96hpi_1000_5_RGB  0.000387    0.000120  0.002654   \n",
       "\n",
       "       crap       overlap  \n",
       "0  0.000200  7.047981e-07  \n",
       "1  0.000068  3.041609e-06  \n",
       "2  0.041727  3.712408e-04  \n",
       "3  0.570734  3.657728e-03  \n",
       "4  0.996811  2.841277e-05  "
      ]
     },
     "execution_count": 50,
     "metadata": {},
     "output_type": "execute_result"
    }
   ],
   "source": [
    "#let's check that our data looks good\n",
    "df.head()"
   ]
  },
  {
   "cell_type": "code",
   "execution_count": 51,
   "metadata": {},
   "outputs": [
    {
     "name": "stdout",
     "output_type": "stream",
     "text": [
      "Number of cells in full dataset: 18006\n",
      "Classification labels:\n",
      "-->MOCK\n",
      "-->TB_perfect\n",
      "-->blur\n",
      "-->crap\n",
      "-->overlap\n"
     ]
    }
   ],
   "source": [
    "df_cnn_pred = df\n",
    "total_cells = str(df_cnn_pred.shape[0])\n",
    "print(\"Number of cells in full dataset: \"+ total_cells)\n",
    "cat_labels = df_cnn_pred.columns[1:]\n",
    "print(\"Classification labels:\")\n",
    "for x in cat_labels:\n",
    "    print(\"-->\"+ x)"
   ]
  },
  {
   "cell_type": "code",
   "execution_count": 52,
   "metadata": {},
   "outputs": [
    {
     "name": "stdout",
     "output_type": "stream",
     "text": [
      "Sorting for 50.0% confidence, representing 94% of the total dataset"
     ]
    }
   ],
   "source": [
    "#### TRY TO ADD A PROGRESS BAR TO THIS AS IT CAN TAKE QUITE SOME TIME ###\n",
    "#e.g. https://github.com/tqdm/tqdm#ipython-jupyter-integration\n",
    "\n",
    "#just copy the path for now from the folder used as TEST\n",
    "#### TRY TO REMOVE THE NECESSITY OF THIS DEFINITION AS IT IS ALREADY DEFINED ABOVE\n",
    "#test_folder_path = f'{PATH}\\\\{CNN_export_folder}'\n",
    "test_folder_path = TEST_PATH\n",
    "confidence_cutoff_values = [0.99,0.90,0.80,0.70,0.60,0.50]\n",
    "\n",
    "foldername = \"CNNpredictions_\" + datetime.datetime.now().strftime('%Y%m%d_%H%M')\n",
    "mydir = os.path.join(os.getcwd(), foldername)\n",
    "os.makedirs(mydir)\n",
    "\n",
    "for cutoff_val in confidence_cutoff_values:\n",
    "    \n",
    "    def label_cat (row):\n",
    "        if row['MOCK'] >= cutoff_val :\n",
    "          return 'MOCK'\n",
    "        if row['TB_perfect'] >= cutoff_val :\n",
    "          return 'TB_perfect'\n",
    "        if row['blur'] >= cutoff_val :\n",
    "          return 'blur'\n",
    "        if row['crap'] >= cutoff_val :\n",
    "          return 'crap'\n",
    "        if row['overlap'] >= cutoff_val :\n",
    "          return 'overlap'\n",
    "        #if row['TB_early'] >= cutoff_val :\n",
    "        #  return 'TB_early'\n",
    "        return 'FALSE'\n",
    "    \n",
    "    colname = str(int(cutoff_val*100)) + \"confidence\"\n",
    "    df_cnn_pred['cnnsort_cat'] = df_cnn_pred.apply (lambda row: label_cat (row),axis=1)\n",
    "    df_cnn_pred_sort = df_cnn_pred[df_cnn_pred.cnnsort_cat != \"FALSE\"]    \n",
    "    proportion_of_dataset = 100 - (int(total_cells) - int(df_cnn_pred_sort.shape[0]))/int(total_cells)*100\n",
    "    \n",
    "    print(\"\\rSorting for {}% confidence, representing {}% of the total dataset\".format(cutoff_val*100,int(proportion_of_dataset)), end=\"\", flush=True)\n",
    "\n",
    "    cat_val = df_cnn_pred_sort.cnnsort_cat.unique()\n",
    "    cat_val = df_cnn_pred_sort.cnnsort_cat.unique()\n",
    "    for cats in cat_val:\n",
    "        os.makedirs(os.path.join(mydir,colname,cats))\n",
    "    \n",
    "    list_fn=[]\n",
    "    #### THIS DOESNT WORK \n",
    "    #this will scan through the training dataset and only add files that aren't in the training dataset to the CNN predictions, comment this out if you want these\n",
    "    #for r,d,f in os.walk(test_folder_path):\n",
    "        #for file in f:\n",
    "         #   list_fn.append(file)    \n",
    "    ######\n",
    "    \n",
    "    #this will scan through the higher confidence folders and only add files that are unique to the lower datasets\n",
    "    for r,d,f in os.walk(mydir):\n",
    "        for file in f:\n",
    "            list_fn.append(file) \n",
    "    \n",
    "    for index, rows in df_cnn_pred_sort.iterrows():\n",
    "        fn = rows.id + \".jpg\"\n",
    "        if fn not in list_fn:\n",
    "            cnnsort_cat = rows.cnnsort_cat\n",
    "            new_filename = os.path.join(mydir, colname , cnnsort_cat, fn)\n",
    "            old_filename = os.path.join(test_folder_path, fn)\n",
    "            shutil.copy(old_filename, new_filename)\n",
    "    \n",
    "    "
   ]
  },
  {
   "cell_type": "code",
   "execution_count": 43,
   "metadata": {},
   "outputs": [],
   "source": [
    "import smtplib, ssl\n",
    "\n",
    "port = 465  # For SSL\n",
    "smtp_server = \"smtp.gmail.com\"\n",
    "sender_email = \"USERNAME@gmail.com\" # Enter your address\n",
    "password = \"PASSWORD\"\n",
    "#password = input(\"Type your password and press enter: \")\n",
    "\n",
    "receiver_email = \"RECEIVER_EMAIL_ADDRESS@gmail.com\"  # Enter receiver address\n",
    "\n",
    "message = f\"\"\"\\\n",
    "Subject: {CNN_export_folder} pipeline complete\n",
    "\n",
    "This message is sent from Python.\"\"\"\n",
    "\n",
    "context = ssl.create_default_context()\n",
    "with smtplib.SMTP_SSL(smtp_server, port, context=context) as server:\n",
    "    server.login(sender_email, password)\n",
    "    server.sendmail(sender_email, receiver_email, message)"
   ]
  },
  {
   "cell_type": "code",
   "execution_count": null,
   "metadata": {},
   "outputs": [],
   "source": []
  },
  {
   "cell_type": "code",
   "execution_count": null,
   "metadata": {},
   "outputs": [],
   "source": []
  }
 ],
 "metadata": {
  "kernelspec": {
   "display_name": "Python 3",
   "language": "python",
   "name": "python3"
  },
  "language_info": {
   "codemirror_mode": {
    "name": "ipython",
    "version": 3
   },
   "file_extension": ".py",
   "mimetype": "text/x-python",
   "name": "python",
   "nbconvert_exporter": "python",
   "pygments_lexer": "ipython3",
   "version": "3.7.3"
  }
 },
 "nbformat": 4,
 "nbformat_minor": 2
}
