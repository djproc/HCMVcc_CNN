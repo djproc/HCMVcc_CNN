{
 "cells": [
  {
   "cell_type": "code",
   "execution_count": 1,
   "metadata": {},
   "outputs": [],
   "source": [
    "#import the libraries you need\n",
    "\n",
    "import numpy as np\n",
    "import matplotlib\n",
    "import matplotlib.pyplot as plt\n",
    "%matplotlib inline\n",
    "#matplotlib.use('Agg') #this prevents it from displaying inline\n",
    "import seaborn as sns\n",
    "import os"
   ]
  },
  {
   "cell_type": "code",
   "execution_count": 2,
   "metadata": {},
   "outputs": [
    {
     "data": {
      "text/plain": [
       "['__pycache__',\n",
       " 'GenerateIDs&Coords.ipynb',\n",
       " 'README.md',\n",
       " 'TB_Linescan_4channel.ijm',\n",
       " 'LinescantoAnalysis.ipynb',\n",
       " 'ID_NUC.cpproj',\n",
       " 'HCMVplaques.cpproj',\n",
       " 'CNN_predictionsONLY.ipynb',\n",
       " 'CNNtoImageAnalysis.ipynb',\n",
       " '3biorepsLinescantoAnalysis.ipynb',\n",
       " 'HCMVplaques_CK666.cpproj',\n",
       " 'AcMT_Quant.cpproj',\n",
       " 'dev_GenerateIDsCoordsIMGexport.ipynb',\n",
       " 'TrainngValidationSetSorter.ipynb',\n",
       " 'functions_dev.ipynb',\n",
       " 'NuclearRotation_plot.ipynb',\n",
       " 'MOCK_Linescan_3channel.ijm',\n",
       " 'RC_Quant.cpproj',\n",
       " 'HCMVcellclassification.py',\n",
       " '.git',\n",
       " 'TB_Linescan_3channel.ijm',\n",
       " 'CNN_train&predict.ipynb',\n",
       " 'MOCK_Linescan_4channel.ijm',\n",
       " '.gitignore',\n",
       " 'CNNexport_2channel.ijm',\n",
       " '117_20190601_H3K9me3quant_repG_v1_CNNexport',\n",
       " '_CSVfromCellProfiler',\n",
       " '.ipynb_checkpoints']"
      ]
     },
     "execution_count": 2,
     "metadata": {},
     "output_type": "execute_result"
    }
   ],
   "source": [
    "#copy the output csv files from CellProfiler to this folder\n",
    "\n",
    "#next let's get a list of the files in our current directory\n",
    "os.listdir(os.getcwd())"
   ]
  },
  {
   "cell_type": "code",
   "execution_count": 3,
   "metadata": {},
   "outputs": [
    {
     "name": "stdout",
     "output_type": "stream",
     "text": [
      "/home/djproc/Github/HCMV_cellclassificationCNN\n",
      "117_20190707_H3K9me3quant_repL_v1_NUC_DAPI.csv\n",
      "117_20190707_H3K9me3quant_repL_v1_cytoplasm.csv\n",
      "117_20190707_H3K9me3quant_repL_v1_Image.csv\n"
     ]
    }
   ],
   "source": [
    "#get the common name from the csv files listed above \n",
    "name_var = \"117_20190707_H3K9me3quant_repL_v1\"\n",
    "\n",
    "#this will then automatically generate names for the other csv files so we can load them all. Make sure these files are named correctly according to object IDs in CellProfiler\n",
    "NUCcsv =  f\"{name_var}_NUC_DAPI.csv\"\n",
    "CYTOcsv = f\"{name_var}_cytoplasm.csv\"\n",
    "IMAGEcsv = f\"{name_var}_Image.csv\"\n",
    "print(os.getcwd())\n",
    "print(NUCcsv)\n",
    "print(CYTOcsv)\n",
    "print(IMAGEcsv)"
   ]
  },
  {
   "cell_type": "code",
   "execution_count": null,
   "metadata": {},
   "outputs": [],
   "source": [
    "#we need to generate a folder to export our single extracted images to for further use by the CNN\n",
    "CNNexportfolder = f\"{name_var}_CNNexport\"\n",
    "os.mkdir(CNNexportfolder)"
   ]
  },
  {
   "cell_type": "code",
   "execution_count": 2,
   "metadata": {},
   "outputs": [
    {
     "name": "stdout",
     "output_type": "stream",
     "text": [
      "117_20190707_H3K9me3quant_repL_v1_NUC_DAPI.csv\n",
      "G:/117/117_20190601_H3K9me3quant_repE/_pipeline/v1/_training_v2\\117_20190707_H3K9me3quant_repL_v1_CNNexport\n",
      "G:\\117\\117_20190707_H3K9me3quant_repKrepL\\_pipeline\\v1\n",
      "G:\\117\\117_20190707_H3K9me3quant_repKrepL\\_pipeline\\v1\\117_20190707_H3K9me3quant_repL_v1_CNNexport\n"
     ]
    }
   ],
   "source": [
    "#then we need to add a symbolic link to this CNNexport folder from the the CNN model we are making predictions from (actually linking to the folder above the models folder, i usually call this \"_training\")\n",
    "#if you aren't making any predictions, you can skip this step\n",
    "\n",
    "#NOTE: you will need to be runnig jupyter lab in administrator mode for the symlink function to work, so open cmd.exe in admin mode (right click) then type \"activate [ENV NAME e.g. fastai_new]\". Then type \"jupyter lab\".\n",
    "\n",
    "#enter a path to the fodler containing the trained model\n",
    "MODELS_PATH = r\"G:/117/117_20190601_H3K9me3quant_repE/_pipeline/v1/_training_v2\" #this is the path of your general models folder, alwasys put that r in frot of the path string! \n",
    "\n",
    "MODELS_PATH_CNNexportfolder = os.path.join(MODELS_PATH, CNNexportfolder)\n",
    "print(MODELS_PATH_CNNexportfolder)\n",
    "#then get the current directory\n",
    "CURRENT_PATH = os.getcwd()\n",
    "print(CURRENT_PATH)\n",
    "CNNexportfolder_PATH = os.path.join(CURRENT_PATH, CNNexportfolder)\n",
    "print(CNNexportfolder_PATH)\n",
    "os.symlink(CNNexportfolder_PATH, MODELS_PATH_CNNexportfolder)"
   ]
  },
  {
   "cell_type": "code",
   "execution_count": 95,
   "metadata": {},
   "outputs": [],
   "source": [
    "#now we will import our csv files into pandas dataframes\n",
    "\n",
    "#import the data for the nucleus\n",
    "df1 = pd.read_csv(NUCcsv, na_filter=True)\n",
    "df1.set_index(\"ImageNumber\", inplace=True)\n",
    "\n",
    "#import data fro the cytoplasm\n",
    "df2 = pd.read_csv(CYTOcsv, na_filter=True)\n",
    "df2.set_index(\"ImageNumber\", inplace=True)\n",
    "\n",
    "#import data for general image info (i.e. so we can access data such as image URLs)\n",
    "ImageInfo_df = pd.read_csv(IMAGEcsv)\n",
    "ImageInfo_df.set_index(\"ImageNumber\", inplace=True)\n",
    "\n",
    "#then we are going to filter away everything but the image URLs (note, these are local URLS to the file system on your machine, your data doesn't need to be on the internet, but would work if it is)\n",
    "ImageURL_df = ImageInfo_df.filter(regex=r'^URL_', axis=1) #this will select any columns starting with \"URL_\"\n",
    "#ImageURL_df = ImageInfo_df[[\"URL_AcMT\",\"URL_DAPI\",\"URL_SUN1\",\"URL_gB\"]] #alternatively you could select the URL column names manually this way"
   ]
  },
  {
   "cell_type": "code",
   "execution_count": 97,
   "metadata": {},
   "outputs": [],
   "source": [
    "#now we will merge our nucleus data with our URL data\n",
    "df1 = df1.merge(ImageURL_df, left_on='ImageNumber', right_on='ImageNumber', how='outer')\n",
    "\n",
    "#then we will merge this with our cytoplasm data and differentiate columns from the two datasets as \"_NUC\" and \"_CYTO\"\n",
    "df1 = df1.merge(df2, left_on=[\"ImageNumber\", \"ObjectNumber\"], right_on=[\"ImageNumber\", \"Parent_NUC_DAPI\"], how=\"outer\", suffixes=('_NUC', '_CYTO'))"
   ]
  },
  {
   "cell_type": "code",
   "execution_count": 98,
   "metadata": {},
   "outputs": [
    {
     "data": {
      "text/plain": [
       "array(['ObjectNumber_NUC', 'Metadata_FileLocation_NUC',\n",
       "       'Metadata_Frame_NUC', 'Metadata_Series_NUC', 'Metadata_biorep_NUC',\n",
       "       'Metadata_biorep.1_NUC', 'Metadata_channel_NUC',\n",
       "       'Metadata_date_NUC', 'Metadata_experiment_NUC',\n",
       "       'Metadata_expname_NUC', 'Metadata_exprep_NUC',\n",
       "       'Metadata_imageNo_NUC', 'Metadata_timepoint_NUC',\n",
       "       'Metadata_timepoint.1_NUC', 'AreaShape_Area', 'AreaShape_Center_X',\n",
       "       'AreaShape_Center_Y', 'AreaShape_Center_Z',\n",
       "       'AreaShape_Compactness', 'AreaShape_Eccentricity',\n",
       "       'AreaShape_EulerNumber', 'AreaShape_Extent',\n",
       "       'AreaShape_FormFactor', 'AreaShape_MajorAxisLength',\n",
       "       'AreaShape_MaxFeretDiameter', 'AreaShape_MaximumRadius',\n",
       "       'AreaShape_MeanRadius', 'AreaShape_MedianRadius',\n",
       "       'AreaShape_MinFeretDiameter', 'AreaShape_MinorAxisLength',\n",
       "       'AreaShape_Orientation', 'AreaShape_Perimeter',\n",
       "       'AreaShape_Solidity', 'Children_Cytoplasm_Count',\n",
       "       'Intensity_IntegratedIntensityEdge_H3K9me3_small',\n",
       "       'Intensity_IntegratedIntensity_H3K9me3_small',\n",
       "       'Intensity_LowerQuartileIntensity_H3K9me3_small',\n",
       "       'Intensity_MADIntensity_H3K9me3_small',\n",
       "       'Intensity_MassDisplacement_H3K9me3_small',\n",
       "       'Intensity_MaxIntensityEdge_H3K9me3_small',\n",
       "       'Intensity_MaxIntensity_H3K9me3_small',\n",
       "       'Intensity_MeanIntensityEdge_H3K9me3_small',\n",
       "       'Intensity_MeanIntensity_H3K9me3_small',\n",
       "       'Intensity_MedianIntensity_H3K9me3_small',\n",
       "       'Intensity_MinIntensityEdge_H3K9me3_small',\n",
       "       'Intensity_MinIntensity_H3K9me3_small',\n",
       "       'Intensity_StdIntensityEdge_H3K9me3_small',\n",
       "       'Intensity_StdIntensity_H3K9me3_small',\n",
       "       'Intensity_UpperQuartileIntensity_H3K9me3_small',\n",
       "       'Location_CenterMassIntensity_X_H3K9me3_small',\n",
       "       'Location_CenterMassIntensity_Y_H3K9me3_small',\n",
       "       'Location_CenterMassIntensity_Z_H3K9me3_small',\n",
       "       'Location_Center_X_NUC', 'Location_Center_Y_NUC',\n",
       "       'Location_Center_Z', 'Location_MaxIntensity_X_H3K9me3_small',\n",
       "       'Location_MaxIntensity_Y_H3K9me3_small',\n",
       "       'Location_MaxIntensity_Z_H3K9me3_small',\n",
       "       'Number_Object_Number_NUC', 'URL_DAPI', 'URL_H3K9me3', 'URL_gB',\n",
       "       'ObjectNumber_CYTO', 'Metadata_FileLocation_CYTO',\n",
       "       'Metadata_Frame_CYTO', 'Metadata_Series_CYTO',\n",
       "       'Metadata_biorep_CYTO', 'Metadata_biorep.1_CYTO',\n",
       "       'Metadata_channel_CYTO', 'Metadata_date_CYTO',\n",
       "       'Metadata_experiment_CYTO', 'Metadata_expname_CYTO',\n",
       "       'Metadata_exprep_CYTO', 'Metadata_imageNo_CYTO',\n",
       "       'Metadata_timepoint_CYTO', 'Metadata_timepoint.1_CYTO',\n",
       "       'Intensity_IntegratedIntensityEdge_gB_small',\n",
       "       'Intensity_IntegratedIntensity_gB_small',\n",
       "       'Intensity_LowerQuartileIntensity_gB_small',\n",
       "       'Intensity_MADIntensity_gB_small',\n",
       "       'Intensity_MassDisplacement_gB_small',\n",
       "       'Intensity_MaxIntensityEdge_gB_small',\n",
       "       'Intensity_MaxIntensity_gB_small',\n",
       "       'Intensity_MeanIntensityEdge_gB_small',\n",
       "       'Intensity_MeanIntensity_gB_small',\n",
       "       'Intensity_MedianIntensity_gB_small',\n",
       "       'Intensity_MinIntensityEdge_gB_small',\n",
       "       'Intensity_MinIntensity_gB_small',\n",
       "       'Intensity_StdIntensityEdge_gB_small',\n",
       "       'Intensity_StdIntensity_gB_small',\n",
       "       'Intensity_UpperQuartileIntensity_gB_small',\n",
       "       'Location_CenterMassIntensity_X_gB_small',\n",
       "       'Location_CenterMassIntensity_Y_gB_small',\n",
       "       'Location_CenterMassIntensity_Z_gB_small',\n",
       "       'Location_Center_X_CYTO', 'Location_Center_Y_CYTO',\n",
       "       'Location_MaxIntensity_X_gB_small',\n",
       "       'Location_MaxIntensity_Y_gB_small',\n",
       "       'Location_MaxIntensity_Z_gB_small', 'Number_Object_Number_CYTO',\n",
       "       'Parent_NUC_DAPI', 'Parent_NUC_expanded'], dtype=object)"
      ]
     },
     "execution_count": 98,
     "metadata": {},
     "output_type": "execute_result"
    }
   ],
   "source": [
    "#check that this merging worked\n",
    "df1.columns.values"
   ]
  },
  {
   "cell_type": "code",
   "execution_count": 99,
   "metadata": {},
   "outputs": [],
   "source": [
    "#sometimes you will have named things incorrectly or forgot to export metadata from cellprofiler to differentiate your datasets. Now is a great time to add that back in\n",
    "#df1.loc[df1['URL_DAPI'].str.contains('96hpi'), 'Metadata_timepoint_NUC'] = '96hpi'\n",
    "#df1.loc[df1['URL_DAPI'].str.contains('MOCK'), 'Metadata_timepoint_NUC'] = 'MOCK'"
   ]
  },
  {
   "cell_type": "code",
   "execution_count": 100,
   "metadata": {},
   "outputs": [
    {
     "data": {
      "text/html": [
       "<div>\n",
       "<style scoped>\n",
       "    .dataframe tbody tr th:only-of-type {\n",
       "        vertical-align: middle;\n",
       "    }\n",
       "\n",
       "    .dataframe tbody tr th {\n",
       "        vertical-align: top;\n",
       "    }\n",
       "\n",
       "    .dataframe thead th {\n",
       "        text-align: right;\n",
       "    }\n",
       "</style>\n",
       "<table border=\"1\" class=\"dataframe\">\n",
       "  <thead>\n",
       "    <tr style=\"text-align: right;\">\n",
       "      <th></th>\n",
       "      <th></th>\n",
       "      <th>ObjectNumber_NUC</th>\n",
       "      <th>Metadata_FileLocation_NUC</th>\n",
       "      <th>Metadata_Frame_NUC</th>\n",
       "      <th>Metadata_Series_NUC</th>\n",
       "      <th>Metadata_biorep.1_NUC</th>\n",
       "      <th>Metadata_channel_NUC</th>\n",
       "      <th>Metadata_date_NUC</th>\n",
       "      <th>Metadata_experiment_NUC</th>\n",
       "      <th>Metadata_expname_NUC</th>\n",
       "      <th>Metadata_exprep_NUC</th>\n",
       "      <th>...</th>\n",
       "      <th>Location_CenterMassIntensity_Y_gB_small</th>\n",
       "      <th>Location_CenterMassIntensity_Z_gB_small</th>\n",
       "      <th>Location_Center_X_CYTO</th>\n",
       "      <th>Location_Center_Y_CYTO</th>\n",
       "      <th>Location_MaxIntensity_X_gB_small</th>\n",
       "      <th>Location_MaxIntensity_Y_gB_small</th>\n",
       "      <th>Location_MaxIntensity_Z_gB_small</th>\n",
       "      <th>Number_Object_Number_CYTO</th>\n",
       "      <th>Parent_NUC_DAPI</th>\n",
       "      <th>Parent_NUC_expanded</th>\n",
       "    </tr>\n",
       "    <tr>\n",
       "      <th>Metadata_timepoint_NUC</th>\n",
       "      <th>Metadata_biorep_NUC</th>\n",
       "      <th></th>\n",
       "      <th></th>\n",
       "      <th></th>\n",
       "      <th></th>\n",
       "      <th></th>\n",
       "      <th></th>\n",
       "      <th></th>\n",
       "      <th></th>\n",
       "      <th></th>\n",
       "      <th></th>\n",
       "      <th></th>\n",
       "      <th></th>\n",
       "      <th></th>\n",
       "      <th></th>\n",
       "      <th></th>\n",
       "      <th></th>\n",
       "      <th></th>\n",
       "      <th></th>\n",
       "      <th></th>\n",
       "      <th></th>\n",
       "      <th></th>\n",
       "    </tr>\n",
       "  </thead>\n",
       "  <tbody>\n",
       "    <tr>\n",
       "      <th>96hpi</th>\n",
       "      <th>repL</th>\n",
       "      <td>11482</td>\n",
       "      <td>0</td>\n",
       "      <td>11482</td>\n",
       "      <td>11482</td>\n",
       "      <td>11482</td>\n",
       "      <td>0</td>\n",
       "      <td>11482</td>\n",
       "      <td>11482</td>\n",
       "      <td>11482</td>\n",
       "      <td>11482</td>\n",
       "      <td>...</td>\n",
       "      <td>11482</td>\n",
       "      <td>11482</td>\n",
       "      <td>11482</td>\n",
       "      <td>11482</td>\n",
       "      <td>11482</td>\n",
       "      <td>11482</td>\n",
       "      <td>11482</td>\n",
       "      <td>11482</td>\n",
       "      <td>11482</td>\n",
       "      <td>11482</td>\n",
       "    </tr>\n",
       "    <tr>\n",
       "      <th>MOCK</th>\n",
       "      <th>repL</th>\n",
       "      <td>7208</td>\n",
       "      <td>0</td>\n",
       "      <td>7208</td>\n",
       "      <td>7208</td>\n",
       "      <td>7208</td>\n",
       "      <td>0</td>\n",
       "      <td>7208</td>\n",
       "      <td>7208</td>\n",
       "      <td>7208</td>\n",
       "      <td>7208</td>\n",
       "      <td>...</td>\n",
       "      <td>7208</td>\n",
       "      <td>7208</td>\n",
       "      <td>7208</td>\n",
       "      <td>7208</td>\n",
       "      <td>7208</td>\n",
       "      <td>7208</td>\n",
       "      <td>7208</td>\n",
       "      <td>7208</td>\n",
       "      <td>7208</td>\n",
       "      <td>7208</td>\n",
       "    </tr>\n",
       "  </tbody>\n",
       "</table>\n",
       "<p>2 rows × 100 columns</p>\n",
       "</div>"
      ],
      "text/plain": [
       "                                            ObjectNumber_NUC  \\\n",
       "Metadata_timepoint_NUC Metadata_biorep_NUC                     \n",
       "96hpi                  repL                            11482   \n",
       "MOCK                   repL                             7208   \n",
       "\n",
       "                                            Metadata_FileLocation_NUC  \\\n",
       "Metadata_timepoint_NUC Metadata_biorep_NUC                              \n",
       "96hpi                  repL                                         0   \n",
       "MOCK                   repL                                         0   \n",
       "\n",
       "                                            Metadata_Frame_NUC  \\\n",
       "Metadata_timepoint_NUC Metadata_biorep_NUC                       \n",
       "96hpi                  repL                              11482   \n",
       "MOCK                   repL                               7208   \n",
       "\n",
       "                                            Metadata_Series_NUC  \\\n",
       "Metadata_timepoint_NUC Metadata_biorep_NUC                        \n",
       "96hpi                  repL                               11482   \n",
       "MOCK                   repL                                7208   \n",
       "\n",
       "                                            Metadata_biorep.1_NUC  \\\n",
       "Metadata_timepoint_NUC Metadata_biorep_NUC                          \n",
       "96hpi                  repL                                 11482   \n",
       "MOCK                   repL                                  7208   \n",
       "\n",
       "                                            Metadata_channel_NUC  \\\n",
       "Metadata_timepoint_NUC Metadata_biorep_NUC                         \n",
       "96hpi                  repL                                    0   \n",
       "MOCK                   repL                                    0   \n",
       "\n",
       "                                            Metadata_date_NUC  \\\n",
       "Metadata_timepoint_NUC Metadata_biorep_NUC                      \n",
       "96hpi                  repL                             11482   \n",
       "MOCK                   repL                              7208   \n",
       "\n",
       "                                            Metadata_experiment_NUC  \\\n",
       "Metadata_timepoint_NUC Metadata_biorep_NUC                            \n",
       "96hpi                  repL                                   11482   \n",
       "MOCK                   repL                                    7208   \n",
       "\n",
       "                                            Metadata_expname_NUC  \\\n",
       "Metadata_timepoint_NUC Metadata_biorep_NUC                         \n",
       "96hpi                  repL                                11482   \n",
       "MOCK                   repL                                 7208   \n",
       "\n",
       "                                            Metadata_exprep_NUC  ...  \\\n",
       "Metadata_timepoint_NUC Metadata_biorep_NUC                       ...   \n",
       "96hpi                  repL                               11482  ...   \n",
       "MOCK                   repL                                7208  ...   \n",
       "\n",
       "                                            Location_CenterMassIntensity_Y_gB_small  \\\n",
       "Metadata_timepoint_NUC Metadata_biorep_NUC                                            \n",
       "96hpi                  repL                                                   11482   \n",
       "MOCK                   repL                                                    7208   \n",
       "\n",
       "                                            Location_CenterMassIntensity_Z_gB_small  \\\n",
       "Metadata_timepoint_NUC Metadata_biorep_NUC                                            \n",
       "96hpi                  repL                                                   11482   \n",
       "MOCK                   repL                                                    7208   \n",
       "\n",
       "                                            Location_Center_X_CYTO  \\\n",
       "Metadata_timepoint_NUC Metadata_biorep_NUC                           \n",
       "96hpi                  repL                                  11482   \n",
       "MOCK                   repL                                   7208   \n",
       "\n",
       "                                            Location_Center_Y_CYTO  \\\n",
       "Metadata_timepoint_NUC Metadata_biorep_NUC                           \n",
       "96hpi                  repL                                  11482   \n",
       "MOCK                   repL                                   7208   \n",
       "\n",
       "                                            Location_MaxIntensity_X_gB_small  \\\n",
       "Metadata_timepoint_NUC Metadata_biorep_NUC                                     \n",
       "96hpi                  repL                                            11482   \n",
       "MOCK                   repL                                             7208   \n",
       "\n",
       "                                            Location_MaxIntensity_Y_gB_small  \\\n",
       "Metadata_timepoint_NUC Metadata_biorep_NUC                                     \n",
       "96hpi                  repL                                            11482   \n",
       "MOCK                   repL                                             7208   \n",
       "\n",
       "                                            Location_MaxIntensity_Z_gB_small  \\\n",
       "Metadata_timepoint_NUC Metadata_biorep_NUC                                     \n",
       "96hpi                  repL                                            11482   \n",
       "MOCK                   repL                                             7208   \n",
       "\n",
       "                                            Number_Object_Number_CYTO  \\\n",
       "Metadata_timepoint_NUC Metadata_biorep_NUC                              \n",
       "96hpi                  repL                                     11482   \n",
       "MOCK                   repL                                      7208   \n",
       "\n",
       "                                            Parent_NUC_DAPI  \\\n",
       "Metadata_timepoint_NUC Metadata_biorep_NUC                    \n",
       "96hpi                  repL                           11482   \n",
       "MOCK                   repL                            7208   \n",
       "\n",
       "                                            Parent_NUC_expanded  \n",
       "Metadata_timepoint_NUC Metadata_biorep_NUC                       \n",
       "96hpi                  repL                               11482  \n",
       "MOCK                   repL                                7208  \n",
       "\n",
       "[2 rows x 100 columns]"
      ]
     },
     "execution_count": 100,
     "metadata": {},
     "output_type": "execute_result"
    }
   ],
   "source": [
    "#use the pandas groupby fundtion on the df1 dataframe to count how many individual cells are in your dataset sorted by timepoint and biological replicate\n",
    "df1.groupby([\"Metadata_timepoint_NUC\", \"Metadata_biorep_NUC\"]).count()"
   ]
  },
  {
   "cell_type": "code",
   "execution_count": 101,
   "metadata": {},
   "outputs": [
    {
     "name": "stdout",
     "output_type": "stream",
     "text": [
      "Number of nuclei detected: 18,694\n"
     ]
    }
   ],
   "source": [
    "#we can also just look at the raw number of rows in the dataframe to see how many nuclei we've identified\n",
    "rows_in_df = df1.shape[0]\n",
    "print(f'Number of nuclei detected: {rows_in_df:,.0f}')"
   ]
  },
  {
   "cell_type": "code",
   "execution_count": 7,
   "metadata": {},
   "outputs": [],
   "source": [
    "#df1.columns.values"
   ]
  },
  {
   "cell_type": "code",
   "execution_count": 103,
   "metadata": {
    "scrolled": true
   },
   "outputs": [
    {
     "data": {
      "image/png": "[encoded data removed]",
      "text/plain": [
       "<Figure size 432x288 with 1 Axes>"
      ]
     },
     "metadata": {
      "needs_background": "light"
     },
     "output_type": "display_data"
    }
   ],
   "source": [
    "#we can then plot the area of the nucleus for each timepoint\n",
    "display_col = \"AreaShape_Area\"\n",
    "sns.violinplot(x=\"Metadata_timepoint_NUC\", y=display_col, data=df1.reset_index(), size=1);    \n",
    "plt.show()"
   ]
  },
  {
   "cell_type": "code",
   "execution_count": 104,
   "metadata": {},
   "outputs": [
    {
     "data": {
      "text/plain": [
       "(0, 0.1)"
      ]
     },
     "execution_count": 104,
     "metadata": {},
     "output_type": "execute_result"
    },
    {
     "data": {
      "image/png": "[encoded data removed]",
      "text/plain": [
       "<Figure size 432x288 with 1 Axes>"
      ]
     },
     "metadata": {
      "needs_background": "light"
     },
     "output_type": "display_data"
    }
   ],
   "source": [
    "#then we can plot gB intensity vs area to see that there are larger infected nuclei that have gB staining in the surrounding cytoplasm\n",
    "sns.scatterplot(x='Intensity_MeanIntensity_gB_small', y='AreaShape_Area', data=df1.reset_index(), hue='Metadata_timepoint_NUC', size=0.0001, alpha=0.1)\n",
    "plt.legend(bbox_to_anchor=(1.05, 1), loc=2, borderaxespad=0.)\n",
    "plt.xlim(0,0.1)\n",
    "#plt.ylim(0.02,0.08)"
   ]
  },
  {
   "cell_type": "markdown",
   "metadata": {},
   "source": [
    "# Generate unique IDs"
   ]
  },
  {
   "cell_type": "code",
   "execution_count": 106,
   "metadata": {},
   "outputs": [],
   "source": [
    "#now that our dataset looks good, we can generate unique IDs for each of the nuclei in our dataset\n",
    "df_merge_OUTPUT = df1\n",
    "df_merge_OUTPUT.reset_index(inplace=True)\n",
    "df_merge_OUTPUT.rename(columns={'ObjectNumber_NUC':'NUC_ID'}, inplace=True)\n",
    "df_merge_OUTPUT.head()"
   ]
  },
  {
   "cell_type": "code",
   "execution_count": 111,
   "metadata": {},
   "outputs": [],
   "source": [
    "#CellProfiler can create empty NaN rows, so we can just filter them out using dropna\n",
    "df_merge_OUTPUT.dropna(subset=['NUC_ID'], inplace=True)\n",
    "df_merge_OUTPUT.head()"
   ]
  },
  {
   "cell_type": "code",
   "execution_count": 113,
   "metadata": {},
   "outputs": [
    {
     "data": {
      "text/plain": [
       "array(['ImageNumber', 'NUC_ID', 'Metadata_FileLocation_NUC',\n",
       "       'Metadata_Frame_NUC', 'Metadata_Series_NUC', 'Metadata_biorep_NUC',\n",
       "       'Metadata_biorep.1_NUC', 'Metadata_channel_NUC',\n",
       "       'Metadata_date_NUC', 'Metadata_experiment_NUC',\n",
       "       'Metadata_expname_NUC', 'Metadata_exprep_NUC',\n",
       "       'Metadata_imageNo_NUC', 'Metadata_timepoint_NUC',\n",
       "       'Metadata_timepoint.1_NUC', 'AreaShape_Area', 'AreaShape_Center_X',\n",
       "       'AreaShape_Center_Y', 'AreaShape_Center_Z',\n",
       "       'AreaShape_Compactness', 'AreaShape_Eccentricity',\n",
       "       'AreaShape_EulerNumber', 'AreaShape_Extent',\n",
       "       'AreaShape_FormFactor', 'AreaShape_MajorAxisLength',\n",
       "       'AreaShape_MaxFeretDiameter', 'AreaShape_MaximumRadius',\n",
       "       'AreaShape_MeanRadius', 'AreaShape_MedianRadius',\n",
       "       'AreaShape_MinFeretDiameter', 'AreaShape_MinorAxisLength',\n",
       "       'AreaShape_Orientation', 'AreaShape_Perimeter',\n",
       "       'AreaShape_Solidity', 'Children_Cytoplasm_Count',\n",
       "       'Intensity_IntegratedIntensityEdge_H3K9me3_small',\n",
       "       'Intensity_IntegratedIntensity_H3K9me3_small',\n",
       "       'Intensity_LowerQuartileIntensity_H3K9me3_small',\n",
       "       'Intensity_MADIntensity_H3K9me3_small',\n",
       "       'Intensity_MassDisplacement_H3K9me3_small',\n",
       "       'Intensity_MaxIntensityEdge_H3K9me3_small',\n",
       "       'Intensity_MaxIntensity_H3K9me3_small',\n",
       "       'Intensity_MeanIntensityEdge_H3K9me3_small',\n",
       "       'Intensity_MeanIntensity_H3K9me3_small',\n",
       "       'Intensity_MedianIntensity_H3K9me3_small',\n",
       "       'Intensity_MinIntensityEdge_H3K9me3_small',\n",
       "       'Intensity_MinIntensity_H3K9me3_small',\n",
       "       'Intensity_StdIntensityEdge_H3K9me3_small',\n",
       "       'Intensity_StdIntensity_H3K9me3_small',\n",
       "       'Intensity_UpperQuartileIntensity_H3K9me3_small',\n",
       "       'Location_CenterMassIntensity_X_H3K9me3_small',\n",
       "       'Location_CenterMassIntensity_Y_H3K9me3_small',\n",
       "       'Location_CenterMassIntensity_Z_H3K9me3_small',\n",
       "       'Location_Center_X_NUC', 'Location_Center_Y_NUC',\n",
       "       'Location_Center_Z', 'Location_MaxIntensity_X_H3K9me3_small',\n",
       "       'Location_MaxIntensity_Y_H3K9me3_small',\n",
       "       'Location_MaxIntensity_Z_H3K9me3_small',\n",
       "       'Number_Object_Number_NUC', 'URL_DAPI', 'URL_H3K9me3', 'URL_gB',\n",
       "       'ObjectNumber_CYTO', 'Metadata_FileLocation_CYTO',\n",
       "       'Metadata_Frame_CYTO', 'Metadata_Series_CYTO',\n",
       "       'Metadata_biorep_CYTO', 'Metadata_biorep.1_CYTO',\n",
       "       'Metadata_channel_CYTO', 'Metadata_date_CYTO',\n",
       "       'Metadata_experiment_CYTO', 'Metadata_expname_CYTO',\n",
       "       'Metadata_exprep_CYTO', 'Metadata_imageNo_CYTO',\n",
       "       'Metadata_timepoint_CYTO', 'Metadata_timepoint.1_CYTO',\n",
       "       'Intensity_IntegratedIntensityEdge_gB_small',\n",
       "       'Intensity_IntegratedIntensity_gB_small',\n",
       "       'Intensity_LowerQuartileIntensity_gB_small',\n",
       "       'Intensity_MADIntensity_gB_small',\n",
       "       'Intensity_MassDisplacement_gB_small',\n",
       "       'Intensity_MaxIntensityEdge_gB_small',\n",
       "       'Intensity_MaxIntensity_gB_small',\n",
       "       'Intensity_MeanIntensityEdge_gB_small',\n",
       "       'Intensity_MeanIntensity_gB_small',\n",
       "       'Intensity_MedianIntensity_gB_small',\n",
       "       'Intensity_MinIntensityEdge_gB_small',\n",
       "       'Intensity_MinIntensity_gB_small',\n",
       "       'Intensity_StdIntensityEdge_gB_small',\n",
       "       'Intensity_StdIntensity_gB_small',\n",
       "       'Intensity_UpperQuartileIntensity_gB_small',\n",
       "       'Location_CenterMassIntensity_X_gB_small',\n",
       "       'Location_CenterMassIntensity_Y_gB_small',\n",
       "       'Location_CenterMassIntensity_Z_gB_small',\n",
       "       'Location_Center_X_CYTO', 'Location_Center_Y_CYTO',\n",
       "       'Location_MaxIntensity_X_gB_small',\n",
       "       'Location_MaxIntensity_Y_gB_small',\n",
       "       'Location_MaxIntensity_Z_gB_small', 'Number_Object_Number_CYTO',\n",
       "       'Parent_NUC_DAPI', 'Parent_NUC_expanded'], dtype=object)"
      ]
     },
     "execution_count": 113,
     "metadata": {},
     "output_type": "execute_result"
    }
   ],
   "source": [
    "df_merge_OUTPUT.columns.values"
   ]
  },
  {
   "cell_type": "code",
   "execution_count": 116,
   "metadata": {},
   "outputs": [],
   "source": [
    "#again if you have forgotten to add some data, you can add that now e.g. experiment id or biorep\n",
    "#df_merge_OUTPUT['Metadata_exp_NUC'] = \"117\"\n",
    "#df_merge_OUTPUT['Metadata_biorep_NUC'] = \"repB\""
   ]
  },
  {
   "cell_type": "code",
   "execution_count": 117,
   "metadata": {},
   "outputs": [],
   "source": [
    "#conversion to string for concatenation\n",
    "### CODE CAN BE IMPROVED ###\n",
    "df_merge_OUTPUT[\"NUC_ID\"] = df_merge_OUTPUT[\"NUC_ID\"].astype(float).astype(int).astype(str)\n",
    "df_merge_OUTPUT[\"ImageNumber\"] = df_merge_OUTPUT[\"ImageNumber\"].astype(float).astype(int).astype(str)\n",
    "df_merge_OUTPUT['Metadata_date_NUC'] = df_merge_OUTPUT['Metadata_date_NUC'].astype(float).astype(int).astype(str)\n",
    "df_merge_OUTPUT['Metadata_timepoint_NUC'] = df_merge_OUTPUT['Metadata_timepoint_NUC'].astype(str)"
   ]
  },
  {
   "cell_type": "code",
   "execution_count": 118,
   "metadata": {},
   "outputs": [
    {
     "data": {
      "text/plain": [
       "0    117_20190707_repL_96hpi_1_1\n",
       "1    117_20190707_repL_96hpi_1_2\n",
       "2    117_20190707_repL_96hpi_1_3\n",
       "3    117_20190707_repL_96hpi_1_4\n",
       "4    117_20190707_repL_96hpi_1_5\n",
       "Name: Unique_ID, dtype: object"
      ]
     },
     "execution_count": 118,
     "metadata": {},
     "output_type": "execute_result"
    }
   ],
   "source": [
    "#df_merge_OUTPUT.set_index([\"Metadata_timepoint\", \"Metadata_biorep\"],inplace=True)\n",
    "df_merge_OUTPUT[\"Unique_ID\"] = df_merge_OUTPUT['Metadata_exp_NUC'].str.cat(df_merge_OUTPUT[['Metadata_date_NUC', 'Metadata_biorep_NUC','Metadata_timepoint_NUC','ImageNumber','NUC_ID']], sep=\"_\") \n",
    "df_merge_OUTPUT[\"Unique_ID\"].head()"
   ]
  },
  {
   "cell_type": "markdown",
   "metadata": {},
   "source": [
    "## export thhese nuclei to imagej macro"
   ]
  },
  {
   "cell_type": "code",
   "execution_count": 119,
   "metadata": {},
   "outputs": [],
   "source": [
    "#now we can perform some calculations to get the right coordinates of each nuclei on our full sized image dataset:\n",
    "\n",
    "# multiply by 8 to compensate for downsizing in cellprofiler\n",
    "df_merge_OUTPUT['NUC_x0'] = df_merge_OUTPUT[('Location_Center_X_NUC')]*8 #correcting for downscaling\n",
    "df_merge_OUTPUT['NUC_y0'] = df_merge_OUTPUT[('Location_Center_Y_NUC')]*8 #correcting for downscaling\n",
    "df_merge_OUTPUT['CYTO_x0'] = df_merge_OUTPUT[('Location_CenterMassIntensity_X_gB_small')]*8 #correcting for downscaling\n",
    "df_merge_OUTPUT['CYTO_y0'] = df_merge_OUTPUT[('Location_CenterMassIntensity_Y_gB_small')]*8 #correcting for downscaling"
   ]
  },
  {
   "cell_type": "code",
   "execution_count": 8,
   "metadata": {},
   "outputs": [
    {
     "ename": "NameError",
     "evalue": "name 'ImageURL_df' is not defined",
     "output_type": "error",
     "traceback": [
      "\u001b[1;31m---------------------------------------------------------------------------\u001b[0m",
      "\u001b[1;31mNameError\u001b[0m                                 Traceback (most recent call last)",
      "\u001b[1;32m<ipython-input-8-63e92051e8a5>\u001b[0m in \u001b[0;36m<module>\u001b[1;34m\u001b[0m\n\u001b[0;32m      1\u001b[0m \u001b[1;31m#to make things easier downstream, we will rename our individual channels as C1, C2, C3, or C4\u001b[0m\u001b[1;33m\u001b[0m\u001b[1;33m\u001b[0m\u001b[1;33m\u001b[0m\u001b[0m\n\u001b[1;32m----> 2\u001b[1;33m \u001b[0mImageURL_df\u001b[0m\u001b[1;33m.\u001b[0m\u001b[0mcolumns\u001b[0m\u001b[1;33m.\u001b[0m\u001b[0mvalues\u001b[0m\u001b[1;33m\u001b[0m\u001b[1;33m\u001b[0m\u001b[0m\n\u001b[0m",
      "\u001b[1;31mNameError\u001b[0m: name 'ImageURL_df' is not defined"
     ]
    }
   ],
   "source": [
    "#to make things easier downstream, we will rename our individual channels as C1, C2, C3, or C4\n",
    "\n",
    "#get the names of the current channels:\n",
    "ImageURL_df.columns.values"
   ]
  },
  {
   "cell_type": "code",
   "execution_count": 121,
   "metadata": {},
   "outputs": [],
   "source": [
    "#rename the URL columns because subsetting with multi-index is HARD\n",
    "df_merge_OUTPUT['URL_C1'] = df_merge_OUTPUT[('URL_gB')] #this will be red in imageJ\n",
    "df_merge_OUTPUT['URL_C2'] = df_merge_OUTPUT[('URL_DAPI')] #this will be green in imageJ\n",
    "df_merge_OUTPUT['URL_C3'] = df_merge_OUTPUT[('URL_H3K9me3')] #this will be blue in imageJ\n",
    "#df_merge_OUTPUT['URL_C4'] = df_merge_OUTPUT[('URL_AcMT')] #this will be white in imageJ"
   ]
  },
  {
   "cell_type": "code",
   "execution_count": 122,
   "metadata": {},
   "outputs": [],
   "source": [
    "#export this for all nuclei\n",
    "df_merge_EXPORT= df_merge_OUTPUT[[\"Unique_ID\", 'NUC_x0','NUC_y0','URL_C1','URL_C2','URL_C3','AreaShape_Orientation','CYTO_x0','CYTO_y0']] #MAKE THESE URLS for C1, C2, C3 and C4. You have a method for finding these names"
   ]
  },
  {
   "cell_type": "code",
   "execution_count": 124,
   "metadata": {},
   "outputs": [],
   "source": [
    "df_merge_EXPORT.to_csv(f'{name_var}_IDsandCoords.csv', index=False)\n",
    "#used the below macro to export all the single channels"
   ]
  },
  {
   "cell_type": "code",
   "execution_count": 123,
   "metadata": {},
   "outputs": [],
   "source": [
    "#sometimes you will need to test things using smaller datasets, you can export a random subset of you dataset instead using the following code:\n",
    "#num = 1000\n",
    "#df_merge_EXPORT_rand = df_merge_EXPORT.sample(n=num)\n",
    "#df_merge_EXPORT_rand.to_csv(f'{name_var}_IDsandCoords_rand_{num}.csv', index=False)"
   ]
  },
  {
   "cell_type": "markdown",
   "metadata": {},
   "source": [
    "SAVED IN MACRO FOLDER OF THIS DIR. PASTE BELOW "
   ]
  },
  {
   "cell_type": "markdown",
   "metadata": {},
   "source": [
    "// to not display the pictures as they are goining, use this\n",
    "setBatchMode(true);\n",
    "\n",
    "// ask for a file to be imported\n",
    "\t\n",
    "\tfileName = File.openDialog(\"Select the file to import\");\n",
    "\tallText = File.openAsString(fileName);\n",
    "\ttmp = split(fileName,\".\");\n",
    "\t// get file format {txt, csv}\n",
    "\tposix = tmp[lengthOf(tmp)-1];\n",
    "\t// parse text by lines\n",
    "\ttext = split(allText, \"\\n\");\n",
    "\n",
    "//define your path, this is where files will be saved\n",
    "\t\n",
    "\t//path =  \"B:\\114\\114_20180920_time course redux slide scan\\_CP\\v3_wholeslide_TB72only\\_imgexport\"\n",
    "\tdir = getDirectory(\"Select a location to save the files\"); \n",
    "\t\n",
    "//clear results in case there is something you don't want in your output Results file\n",
    "\n",
    "\trun(\"Clear Results\")\n",
    "\n",
    "\n",
    "// define array for points and image URLS\n",
    "\t\n",
    "\tvar x1points = newArray;\n",
    "\tvar y1points = newArray;\n",
    "\tvar x2points = newArray;\n",
    "\tvar y2points = newArray;\n",
    "\t\n",
    "\tvar nuc_Ori = newArray;\n",
    "\tvar Xmidpoints= newArray;\t\n",
    "\tvar Ymidpoints = newArray;\t\t\t\n",
    "\t\n",
    "\tvar C1url = newArray;\n",
    "\tvar C2url = newArray;\n",
    "\t//var C3url = newArray;\n",
    "\t//var C4url = newArray;\n",
    "\t\n",
    "\tvar ImageID = newArray; \n",
    "\n",
    "//label you columns by number here (starting at 0, not 1)\n",
    "\t\n",
    "\thdr = split(text[0]);\n",
    "\n",
    "\tiImageObjectID = 0;\n",
    "\t\n",
    "\tiXmid = 1;\n",
    "\tiYmid = 2;\n",
    "\n",
    "\tiC1url = 3;\n",
    "\tiC2url = 4;\n",
    "\t//iC3url = 5;\n",
    "\t//iC4url = 5;\n",
    "\t\t\t\t\n",
    "// loading and parsing each line\n",
    "\tfor (i = 2; i < (text.length); i++)\n",
    "\t{\n",
    "\t   //we split each line in the csv at commas \n",
    "\t   line = split(text[i],\",\");\n",
    "\t   setOption(\"ExpandableArrays\", true);   \n",
    "\n",
    "\t   //this loads the data from the csv into the arrays me setup before so that we can iterate over each line (i)\n",
    "\t   //these are specifically for the HCMV ac and nucleus, but you can change them if you need.\n",
    "\n",
    "\t   Xmidpoints[i-1] = parseInt(line[iXmid]);\n",
    "\t   Ymidpoints[i-1] = parseInt(line[iYmid]);\n",
    "\t   \n",
    "\t   C1url[i-1] = line[iC1url]; //note we do not use parseInt here because we want the URL as a string\n",
    "\t   C2url[i-1] = line[iC2url];\n",
    "\t   //C3url[i-1] = line[iC3url];\n",
    "\t   //C4url[i-1] = line[iC4url];\n",
    "\t   \n",
    "\t   ImageID[i-1] = line[iImageObjectID]; \n",
    "\n",
    "\t   //now that the data is loaded from the csv, we can perform our operations\n",
    "\t   //open each image using the URL, draw a line with 150 width, perform a linescan and save the data to a column in the results tab \n",
    "\n",
    "\n",
    "\t   open(C1url[i-1]);\n",
    "\t   rename(\"C1\");\n",
    "\t   \n",
    "\t   open(C2url[i-1]);\n",
    "\t   rename(\"C2\");\n",
    "\t   \n",
    "\t   //open(C3url[i-1]);\n",
    "\t   //rename(\"C3\");\n",
    "\t   \n",
    "\t   run(\"Merge Channels...\", \"c1=C1 c2=C2 create\");\n",
    "\t   run(\"Canvas Size...\", \"width=3248 height=3248 position=Center zero\"); //expand canvas to 2048 + 600*2 for ROI on each side\n",
    "\t   makeRectangle(Xmidpoints[i-1]+300,Ymidpoints[i-1]+300,600,600); //note here we compensated for canvas size expansion\n",
    "\t   run(\"Duplicate...\", \"duplicate\");\t   \t\t\t   \n",
    "\t   saveAs(\"Jpeg\", dir + ImageID[i-1]+\"_RGB.jpg\");\n",
    "\t   close(\"*\");\n",
    "\t   \n",
    "\t   //open(C4url[i-1]);\n",
    "\t   //run(\"Canvas Size...\", \"width=3548 height=3548 position=Center zero\"); //expand canvas to 2048 + 750*2 for ROI on each side\n",
    "\t   //makeRectangle(Xmidpoints[i-1]+375,Ymidpoints[i-1]+375,750,750); //note here we compensated for canvas size expansion\n",
    "\t   //run(\"Duplicate...\", \"duplicate\");\t   \t\t\t   \n",
    "\t   //rename(\"C4\");\n",
    "\t   //save(dir+ImageID[i-1]+\"_C4\");\n",
    "\t   //close(\"*\");\n",
    "\t   \t   \n",
    "\t   \n",
    "\t   //merge all of these channles, cut out a 750x750 region and rotate to align every image on the axis of the linescan\n",
    "\t   //run(\"Merge Channels...\", \"c1=C1 c2=C2 c3=C3 c4=C4 create\");\n",
    "\t   //makeRectangle(Xmidpoints[i-1]-375,Ymidpoints[i-1]-375,750,750);\n",
    "\t   //Roi.setStrokeWidth(2);\n",
    "\t   //setForegroundColor(255, 255, 255);\n",
    "\t   //run(\"Draw\");\n",
    "\t   \n",
    "\t   \n",
    "\t   //run(\"Canvas Size...\", \"width=350 height=350 position=Center zero\"); //expand canvas to 2048 + 750*2 for ROI on each side\n",
    "\t   //makeRectangle(Xmidpoints[i-1],Ymidpoints[i-1],50,50); //note here we compensated for canvas size expansion\n",
    "\t   //run(\"Duplicate...\", \"duplicate\");\n",
    "\t   //save(dir+ImageID[i-1]);\n",
    "\t   //close(\"*\");\t\n",
    "\t\n",
    "\t}"
   ]
  }
 ],
 "metadata": {
  "kernelspec": {
   "display_name": "Python 3",
   "language": "python",
   "name": "python3"
  },
  "language_info": {
   "codemirror_mode": {
    "name": "ipython",
    "version": 3
   },
   "file_extension": ".py",
   "mimetype": "text/x-python",
   "name": "python",
   "nbconvert_exporter": "python",
   "pygments_lexer": "ipython3",
   "version": "3.7.3"
  }
 },
 "nbformat": 4,
 "nbformat_minor": 4
}
